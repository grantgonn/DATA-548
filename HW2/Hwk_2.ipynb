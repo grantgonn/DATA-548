{
 "cells": [
  {
   "cell_type": "markdown",
   "metadata": {},
   "source": [
    "# Exercise 1 \n",
    "\n",
    "In this exercise, we will keep practicing how to apply text-generations models via `transformers` in real-life applications. A small marketing agency in town wants to use AI to automatically generate blog introductions fro articles on technology trends. The goal is to:\n",
    "\n",
    "- Dynamically construct a prompt based on a given topic.\n",
    "- Use a text-generation model, using `pipeline` from `transformers`, to generate high-quality blog intros.\n",
    "- Ensure ddiversity by generating multiple variations.\n",
    "\n",
    "### Exercise 1(a) (2 points)\n",
    "\n",
    "Load `pipeline` from `transformers`. Then, load the `gpt2` model with `task=\"text-generation\"`."
   ]
  },
  {
   "cell_type": "code",
   "execution_count": 1,
   "metadata": {},
   "outputs": [
    {
     "name": "stderr",
     "output_type": "stream",
     "text": [
      "C:\\Users\\gmgma\\AppData\\Local\\Packages\\PythonSoftwareFoundation.Python.3.10_qbz5n2kfra8p0\\LocalCache\\local-packages\\Python310\\site-packages\\tqdm\\auto.py:21: TqdmWarning: IProgress not found. Please update jupyter and ipywidgets. See https://ipywidgets.readthedocs.io/en/stable/user_install.html\n",
      "  from .autonotebook import tqdm as notebook_tqdm\n",
      "C:\\Users\\gmgma\\AppData\\Local\\Packages\\PythonSoftwareFoundation.Python.3.10_qbz5n2kfra8p0\\LocalCache\\local-packages\\Python310\\site-packages\\huggingface_hub\\file_download.py:140: UserWarning: `huggingface_hub` cache-system uses symlinks by default to efficiently store duplicated files but your machine does not support them in C:\\Users\\gmgma\\.cache\\huggingface\\hub\\models--gpt2. Caching files will still work but in a degraded version that might require more space on your disk. This warning can be disabled by setting the `HF_HUB_DISABLE_SYMLINKS_WARNING` environment variable. For more details, see https://huggingface.co/docs/huggingface_hub/how-to-cache#limitations.\n",
      "To support symlinks on Windows, you either need to activate Developer Mode or to run Python as an administrator. In order to activate developer mode, see this article: https://docs.microsoft.com/en-us/windows/apps/get-started/enable-your-device-for-development\n",
      "  warnings.warn(message)\n",
      "Device set to use cpu\n"
     ]
    }
   ],
   "source": [
    "from transformers import pipeline\n",
    "\n",
    "# Load the text-generator pipeline\n",
    "generator = pipeline(\"text-generation\", model=\"gpt2\")"
   ]
  },
  {
   "cell_type": "markdown",
   "metadata": {},
   "source": [
    "### Exercise 1(b) (10 points)\n",
    "\n",
    "Create a function called  `generate_blog_intro` that takes the following arguments:\n",
    "\n",
    "- `topic`: the topic of the blog. The topic should have the following form:\n",
    "   - `f\"As an expert in {topic}, I'm writing a blog post to explain in the latest trends. Start with an engaging introduction:\\n\\n\"`\n",
    "\n",
    "- `max_length`: this parameter set the appropriate length.\n",
    "- `num_return_sequences`: this parameter set the number of generations.\n",
    "\n",
    "Notice that the `generate_blog_intro` uses the three above arguments, calls the model from part 1(a), and prints the generated text. "
   ]
  },
  {
   "cell_type": "code",
   "execution_count": 5,
   "metadata": {},
   "outputs": [],
   "source": [
    "def generate_blog_intro(topic, max_length, num_return_sequences):\n",
    "    # Generate text\n",
    "    text = f\"As an expert in {topic}, I'm writing a blog post to explain in the latest trends. Start with an engaging introduction:\\n\\n\"\n",
    "    intro = generator(text, max_length=max_length, num_return_sequences=num_return_sequences)   \n",
    "    return intro"
   ]
  },
  {
   "cell_type": "markdown",
   "metadata": {},
   "source": [
    "### Exercise 1(c) (3 points)\n",
    "\n",
    "Using the function `generate_blog_intro` from part 1(b) to generate text related to Artificial Inteligence in Finance. Use the below output as reference:\n",
    "\n",
    "```\n",
    "generate_blog_intro(\"Artificial Intelligence in Finance\", 100, 3)\n",
    "\n",
    "Blog Intro 1:\n",
    "As an expert in Artificial Intelligence in Finance, you are writing a blog post to explain the latest trends. Start with an engaging introduction:\n",
    "\n",
    "\n",
    "\"From human-computer interaction to AI, AI evolves, evolves rapidly. One challenge in the field of AI is to build something that is truly as good as its creator. We have seen that the'real' in humans is always far more unpredictable than is often expected. That's why it's so exciting to ask whether the new AI system might be\n",
    "\n",
    "\n",
    "Blog Intro 2:\n",
    "As an expert in Artificial Intelligence in Finance, you are writing a blog post to explain the latest trends. Start with an engaging introduction:\n",
    "\n",
    "\n",
    "The reason I think \"the human eye\" is able to perceive and identify the world better is because it relies on it to do the jobs it does without input, using computers even if they're smarter than our brains. Our brain's ability to see the world through our eyes is not based on our level of processing power, but we have an innate ability\n",
    "\n",
    "\n",
    "Blog Intro 3:\n",
    "As an expert in Artificial Intelligence in Finance, you are writing a blog post to explain the latest trends. Start with an engaging introduction:\n",
    "\n",
    "\n",
    "\"It's not hard to understand how different strategies could be used differently, but, as you have already seen, it's not the same. It's just differently. You should make a good starting point; there's not really much you can do at the end. You might use some traditional techniques for this; you might not think about it too extensively\n",
    "\n",
    "\n",
    "```"
   ]
  },
  {
   "cell_type": "code",
   "execution_count": 6,
   "metadata": {},
   "outputs": [
    {
     "name": "stderr",
     "output_type": "stream",
     "text": [
      "Truncation was not explicitly activated but `max_length` is provided a specific value, please use `truncation=True` to explicitly truncate examples to max length. Defaulting to 'longest_first' truncation strategy. If you encode pairs of sequences (GLUE-style) with the tokenizer you can select this strategy more precisely by providing a specific strategy to `truncation`.\n",
      "Setting `pad_token_id` to `eos_token_id`:50256 for open-end generation.\n"
     ]
    },
    {
     "data": {
      "text/plain": [
       "[{'generated_text': 'As an expert in Artificial Intelligence in Finance, I\\'m writing a blog post to explain in the latest trends. Start with an engaging introduction:\\n\\n\\n\"We should be able to do it without artificial intelligence.\" — Michael Krieger, Business Insider\\n\\n\\nYou think the next Facebook clone will be a super-smart one? Well, this is too exciting a prospect to believe. We\\'re in a world full of bots being used to do things that humans cannot, and you know what? You'},\n",
       " {'generated_text': \"As an expert in Artificial Intelligence in Finance, I'm writing a blog post to explain in the latest trends. Start with an engaging introduction:\\n\\n\\nIn this tutorial, Mark and I focus on how to create an effective, flexible accounting system when designing an account. We demonstrate some specific use cases and the key to leveraging the technology.\\n\\n\\nA Simple Account: How To Create a Simple Account\\n\\nHow does a simple account work? Let's take a real world example. As I mentioned earlier\"},\n",
       " {'generated_text': \"As an expert in Artificial Intelligence in Finance, I'm writing a blog post to explain in the latest trends. Start with an engaging introduction:\\n\\n\\nIf you want to come hang out in the open world, take a break during a day of trading at a coffee shop or restaurant, or maybe just hang around the coffee shop you love. All you need will be a phone, a laptop, or a smartphone or PC. Go with a small-but-important app or software package (for most\"}]"
      ]
     },
     "execution_count": 6,
     "metadata": {},
     "output_type": "execute_result"
    }
   ],
   "source": [
    "generate_blog_intro(\"Artificial Intelligence in Finance\", 100, 3)"
   ]
  },
  {
   "cell_type": "markdown",
   "metadata": {},
   "source": [
    "# Exercise 2 \n",
    "\n",
    "In this exercise, we will keep practicing how to apply text-summarization models via `transformers` in real-life applications. A media company wants to automate the summarization of long-form articles. The goal is to:\n",
    "\n",
    "- Compare extractive and abstractive summarization of a given news article.\n",
    "\n",
    "### Exercise 2(a) (3 points)\n",
    "\n",
    "Load the one article form `cnn_dailymail` using `load_dataset` from `datasets` as follows:\n",
    "\n",
    "```\n",
    "from datasets import load_dataset\n",
    "\n",
    "dataset = load_dataset(\"cnn_dailymail\", \"3.0.0\", split=\"train\")\n",
    "article = dataset[0][\"article\"]\n",
    "\n",
    "print(f\"Article:\\n{article}\\n\")\n",
    "```"
   ]
  },
  {
   "cell_type": "code",
   "execution_count": 9,
   "metadata": {},
   "outputs": [
    {
     "name": "stderr",
     "output_type": "stream",
     "text": [
      "C:\\Users\\gmgma\\AppData\\Local\\Packages\\PythonSoftwareFoundation.Python.3.10_qbz5n2kfra8p0\\LocalCache\\local-packages\\Python310\\site-packages\\huggingface_hub\\file_download.py:140: UserWarning: `huggingface_hub` cache-system uses symlinks by default to efficiently store duplicated files but your machine does not support them in C:\\Users\\gmgma\\.cache\\huggingface\\hub\\datasets--cnn_dailymail. Caching files will still work but in a degraded version that might require more space on your disk. This warning can be disabled by setting the `HF_HUB_DISABLE_SYMLINKS_WARNING` environment variable. For more details, see https://huggingface.co/docs/huggingface_hub/how-to-cache#limitations.\n",
      "To support symlinks on Windows, you either need to activate Developer Mode or to run Python as an administrator. In order to activate developer mode, see this article: https://docs.microsoft.com/en-us/windows/apps/get-started/enable-your-device-for-development\n",
      "  warnings.warn(message)\n",
      "Generating train split: 100%|██████████| 287113/287113 [00:04<00:00, 60527.33 examples/s] \n",
      "Generating validation split: 100%|██████████| 13368/13368 [00:00<00:00, 113419.19 examples/s]\n",
      "Generating test split: 100%|██████████| 11490/11490 [00:00<00:00, 124893.24 examples/s]\n"
     ]
    },
    {
     "name": "stdout",
     "output_type": "stream",
     "text": [
      "Article:\n",
      "LONDON, England (Reuters) -- Harry Potter star Daniel Radcliffe gains access to a reported £20 million ($41.1 million) fortune as he turns 18 on Monday, but he insists the money won't cast a spell on him. Daniel Radcliffe as Harry Potter in \"Harry Potter and the Order of the Phoenix\" To the disappointment of gossip columnists around the world, the young actor says he has no plans to fritter his cash away on fast cars, drink and celebrity parties. \"I don't plan to be one of those people who, as soon as they turn 18, suddenly buy themselves a massive sports car collection or something similar,\" he told an Australian interviewer earlier this month. \"I don't think I'll be particularly extravagant. \"The things I like buying are things that cost about 10 pounds -- books and CDs and DVDs.\" At 18, Radcliffe will be able to gamble in a casino, buy a drink in a pub or see the horror film \"Hostel: Part II,\" currently six places below his number one movie on the UK box office chart. Details of how he'll mark his landmark birthday are under wraps. His agent and publicist had no comment on his plans. \"I'll definitely have some sort of party,\" he said in an interview. \"Hopefully none of you will be reading about it.\" Radcliffe's earnings from the first five Potter films have been held in a trust fund which he has not been able to touch. Despite his growing fame and riches, the actor says he is keeping his feet firmly on the ground. \"People are always looking to say 'kid star goes off the rails,'\" he told reporters last month. \"But I try very hard not to go that way because it would be too easy for them.\" His latest outing as the boy wizard in \"Harry Potter and the Order of the Phoenix\" is breaking records on both sides of the Atlantic and he will reprise the role in the last two films.  Watch I-Reporter give her review of Potter's latest » . There is life beyond Potter, however. The Londoner has filmed a TV movie called \"My Boy Jack,\" about author Rudyard Kipling and his son, due for release later this year. He will also appear in \"December Boys,\" an Australian film about four boys who escape an orphanage. Earlier this year, he made his stage debut playing a tortured teenager in Peter Shaffer's \"Equus.\" Meanwhile, he is braced for even closer media scrutiny now that he's legally an adult: \"I just think I'm going to be more sort of fair game,\" he told Reuters. E-mail to a friend . Copyright 2007 Reuters. All rights reserved.This material may not be published, broadcast, rewritten, or redistributed.\n",
      "\n"
     ]
    }
   ],
   "source": [
    "from datasets import load_dataset\n",
    "\n",
    "dataset = load_dataset(\"cnn_dailymail\", \"3.0.0\", split=\"train\")\n",
    "article = dataset[0][\"article\"]\n",
    "\n",
    "print(f\"Article:\\n{article}\\n\")"
   ]
  },
  {
   "cell_type": "markdown",
   "metadata": {},
   "source": [
    "### Exercise 2(b) (6 points)\n",
    "\n",
    "Load `pipeline` from `transformers`. Then, load the `facebook/bart-large-cnn` model with `task=\"summarization\"`. The summarize `article` from part 2(a) using `max_length=150`, `min_length=50`, and `do_sample=False`. "
   ]
  },
  {
   "cell_type": "code",
   "execution_count": 11,
   "metadata": {},
   "outputs": [
    {
     "name": "stderr",
     "output_type": "stream",
     "text": [
      "C:\\Users\\gmgma\\AppData\\Local\\Packages\\PythonSoftwareFoundation.Python.3.10_qbz5n2kfra8p0\\LocalCache\\local-packages\\Python310\\site-packages\\huggingface_hub\\file_download.py:140: UserWarning: `huggingface_hub` cache-system uses symlinks by default to efficiently store duplicated files but your machine does not support them in C:\\Users\\gmgma\\.cache\\huggingface\\hub\\models--facebook--bart-large-cnn. Caching files will still work but in a degraded version that might require more space on your disk. This warning can be disabled by setting the `HF_HUB_DISABLE_SYMLINKS_WARNING` environment variable. For more details, see https://huggingface.co/docs/huggingface_hub/how-to-cache#limitations.\n",
      "To support symlinks on Windows, you either need to activate Developer Mode or to run Python as an administrator. In order to activate developer mode, see this article: https://docs.microsoft.com/en-us/windows/apps/get-started/enable-your-device-for-development\n",
      "  warnings.warn(message)\n",
      "Device set to use cpu\n"
     ]
    },
    {
     "data": {
      "text/plain": [
       "[{'summary_text': \"Harry Potter star Daniel Radcliffe turns 18 on Monday. He gains access to a reported £20 million ($41.1 million) fortune. Radcliffe's earnings from the first five Potter films have been held in a trust fund. Details of how he'll mark his landmark birthday are under wraps.\"}]"
      ]
     },
     "execution_count": 11,
     "metadata": {},
     "output_type": "execute_result"
    }
   ],
   "source": [
    "# loading the summarizer\n",
    "summarizer = pipeline(task=\"summarization\", model=\"facebook/bart-large-cnn\")\n",
    "\n",
    "summarizer(article, max_length=150, min_length=50, do_sample=False)"
   ]
  },
  {
   "cell_type": "markdown",
   "metadata": {},
   "source": [
    "### Exercise 2(c) (6 points)\n",
    "\n",
    "Load `pipeline` from `transformers`. Then, load the `t5-small` model with `task=\"summarization\"`. The summarize `article` from part 2(a) using `max_length=150`, `min_length=50`, and `do_sample=False`. "
   ]
  },
  {
   "cell_type": "code",
   "execution_count": 12,
   "metadata": {},
   "outputs": [
    {
     "name": "stderr",
     "output_type": "stream",
     "text": [
      "C:\\Users\\gmgma\\AppData\\Local\\Packages\\PythonSoftwareFoundation.Python.3.10_qbz5n2kfra8p0\\LocalCache\\local-packages\\Python310\\site-packages\\huggingface_hub\\file_download.py:140: UserWarning: `huggingface_hub` cache-system uses symlinks by default to efficiently store duplicated files but your machine does not support them in C:\\Users\\gmgma\\.cache\\huggingface\\hub\\models--t5-small. Caching files will still work but in a degraded version that might require more space on your disk. This warning can be disabled by setting the `HF_HUB_DISABLE_SYMLINKS_WARNING` environment variable. For more details, see https://huggingface.co/docs/huggingface_hub/how-to-cache#limitations.\n",
      "To support symlinks on Windows, you either need to activate Developer Mode or to run Python as an administrator. In order to activate developer mode, see this article: https://docs.microsoft.com/en-us/windows/apps/get-started/enable-your-device-for-development\n",
      "  warnings.warn(message)\n",
      "Device set to use cpu\n",
      "Token indices sequence length is longer than the specified maximum sequence length for this model (638 > 512). Running this sequence through the model will result in indexing errors\n"
     ]
    },
    {
     "data": {
      "text/plain": [
       "[{'summary_text': 'the young actor says he has no plans to fritter his cash away on fast cars, drink and celebrity parties . he will be able to gamble in a casino, buy a drink or see the horror film \"Hostel: Part II\" his agent and publicist had no comment on his plans . his latest outing as the boy wizard is breaking records on both sides of the Atlantic .'}]"
      ]
     },
     "execution_count": 12,
     "metadata": {},
     "output_type": "execute_result"
    }
   ],
   "source": [
    "# loading the summarizer\n",
    "summarizer = pipeline(task=\"summarization\", model=\"t5-small\")\n",
    "\n",
    "summarizer(article, max_length=150, min_length=50, do_sample=False)"
   ]
  },
  {
   "cell_type": "markdown",
   "metadata": {},
   "source": [
    "### Exercise 2(d) (3 points)\n",
    "\n",
    "Compare the summaries from part 2(b) and 2(c). Do you notice any difference between the two summaries? Be specific. "
   ]
  },
  {
   "cell_type": "markdown",
   "metadata": {},
   "source": [
    "The first summarization looks to forcus more on giving a brief background of the actor and doesn't go into much detail about the question while the second focuses on the response to the question and doesn't even name the actor in question. "
   ]
  }
 ],
 "metadata": {
  "kernelspec": {
   "display_name": "Python 3",
   "language": "python",
   "name": "python3"
  },
  "language_info": {
   "codemirror_mode": {
    "name": "ipython",
    "version": 3
   },
   "file_extension": ".py",
   "mimetype": "text/x-python",
   "name": "python",
   "nbconvert_exporter": "python",
   "pygments_lexer": "ipython3",
   "version": "3.10.11"
  }
 },
 "nbformat": 4,
 "nbformat_minor": 2
}
