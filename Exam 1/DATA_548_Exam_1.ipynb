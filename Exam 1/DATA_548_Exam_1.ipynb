{
 "cells": [
  {
   "cell_type": "markdown",
   "metadata": {},
   "source": [
    "# Exercise 1 (20 points) \n",
    "\n",
    "Please state **True** or **False** for the below statements.\n",
    "\n",
    "- (a) Transformers are primarily designed for processing sequential data, such as natural language, without relying on recurrence. \n",
    "\n",
    "- (b) The self-attention mechanism in transformers allows the model to consider all words in a sentence simultaneously, rather than sequentially. \n",
    "\n",
    "- (c) Transformers rely on convolutional layers to capture long-range dependencies in text.\n",
    "\n",
    "- (d) The attention mechanism in transformers assigns equal weight to all input tokens when processing a sequence. \n",
    "\n",
    "- (e) Transformers require significantly less data and computing power than traditional RNNs to achieve high performance. \n",
    "\n",
    "- (f) BERT (Bidirectional Encoder Representations from Transformers) is a transformer model that processes text from left to right only. \n",
    "\n",
    "- (g) Training a transformer model from scratch is computationally expensive, which is why transfer learning and pre-trained models are widely used in practice. \n",
    "\n",
    "- (h) PCA can be applied to categorical variables without any preprocessing. \n",
    "\n",
    "- (i) K-Means clustering always produces the same results regardless of the initial placement of centroids. \n",
    "\n",
    "- (j) The principal components in PCA are orthogonal to each other. "
   ]
  },
  {
   "cell_type": "markdown",
   "metadata": {},
   "source": [
    "a. True\n",
    "\n",
    "b. True\n",
    "\n",
    "c. False\n",
    "\n",
    "d. False\n",
    "\n",
    "e. False\n",
    "\n",
    "f. False\n",
    "\n",
    "g. True\n",
    "\n",
    "h. False\n",
    "\n",
    "i. False\n",
    "\n",
    "j. True"
   ]
  },
  {
   "cell_type": "markdown",
   "metadata": {},
   "source": [
    "# Exercise 2 (4 points)\n",
    "\n",
    "Which of the following is a key mechanism used in transformer models to process input sequences?\n",
    "\n",
    "- (a) Pooling\n",
    "- (b) Attention \n",
    "- (c) Convolution\n",
    "- (d) Recursion\n",
    "- (e) All of the above"
   ]
  },
  {
   "cell_type": "markdown",
   "metadata": {},
   "source": [
    "B"
   ]
  },
  {
   "cell_type": "markdown",
   "metadata": {},
   "source": [
    "# Exercise 3 (5 points)\n",
    "\n",
    "Explain the role of self-attention in a transformer model. Why is it important for handling long sequences?"
   ]
  },
  {
   "cell_type": "markdown",
   "metadata": {},
   "source": [
    "Self-attention allows transformers focus on relevant parts of the sequence regardless of their position. This is importaint because it allows the transformer to handle long sequences where distant tokens may be closely related."
   ]
  },
  {
   "cell_type": "markdown",
   "metadata": {},
   "source": [
    "# Exercise 4 (4 points)\n",
    "\n",
    "PCA transforms the original features into new variables called principal components. These components are:\n",
    "\n",
    "- (a) Correlated with each other\n",
    "- (b) Orthogonal to each other \n",
    "- (c) Always equal in variance\n",
    "- (d) Determined randomly\n",
    "- (e) None of the above"
   ]
  },
  {
   "cell_type": "markdown",
   "metadata": {},
   "source": [
    "B"
   ]
  },
  {
   "cell_type": "markdown",
   "metadata": {},
   "source": [
    "# Exercise 5 (5 points)\n",
    "\n",
    "You run K-Means clustering on a dataset and get different results on different runs. What could be causing this, and how can you make the clustering more stable?"
   ]
  },
  {
   "cell_type": "markdown",
   "metadata": {},
   "source": [
    "K-Means randomly assigns centroids, this can cause different results accross multiple runs. To combat this you could use a different clustering method or choosing the right value for K number of clusters."
   ]
  },
  {
   "cell_type": "markdown",
   "metadata": {},
   "source": [
    "# Exercise 6 (4 points)\n",
    "\n",
    "What is the primary purpose of the attention mechanism in a transformer model?\n",
    "\n",
    "- (a) To reduce the dimensionality of the input data\n",
    "- (b) To allow the model to focus on different parts of the input sequence when making predictions \n",
    "- (c) To increase the computational efficiency of the model\n",
    "- (d) To ensure the model can handle variable-length input sequences\n",
    "- (e) All of the above\n"
   ]
  },
  {
   "cell_type": "markdown",
   "metadata": {},
   "source": [
    "B"
   ]
  },
  {
   "cell_type": "markdown",
   "metadata": {},
   "source": [
    "# Exercise 7 (5 points)\n",
    "\n",
    "Consider the below code snippet.\n",
    "\n",
    "```\n",
    "import matplotlib.pyplot as plt\n",
    "from sklearn.decomposition import PCA\n",
    "from sklearn.datasets import load_iris\n",
    "\n",
    "# Load the dataset\n",
    "data = load_iris()\n",
    "X = data.data\n",
    "\n",
    "# Fit PCA\n",
    "pca = PCA()\n",
    "pca.fit(X)\n",
    "\n",
    "# Plot the explained variance\n",
    "plt.figure(figsize=(8, 5))\n",
    "plt.plot(range(1, len(pca.explained_variance_ratio_) + 1), pca.explained_variance_ratio_, marker='o', linestyle='--')\n",
    "plt.title('Scree Plot')\n",
    "plt.xlabel('Principal Component')\n",
    "plt.ylabel('Explained Variance Ratio')\n",
    "plt.xticks(range(1, len(pca.explained_variance_ratio_) + 1))\n",
    "plt.grid()\n",
    "plt.show()\n",
    "```\n",
    "\n",
    "Ensure all required libraries are installed to run the code snippet. How many principal components would you use for the `iris` dataset? Be specific."
   ]
  },
  {
   "cell_type": "code",
   "execution_count": 1,
   "metadata": {},
   "outputs": [
    {
     "data": {
      "image/png": "[encoded data removed]",
      "text/plain": [
       "<Figure size 800x500 with 1 Axes>"
      ]
     },
     "metadata": {},
     "output_type": "display_data"
    }
   ],
   "source": [
    "import matplotlib.pyplot as plt\n",
    "from sklearn.decomposition import PCA\n",
    "from sklearn.datasets import load_iris\n",
    "\n",
    "# Load the dataset\n",
    "data = load_iris()\n",
    "X = data.data\n",
    "\n",
    "# Fit PCA\n",
    "pca = PCA()\n",
    "pca.fit(X)\n",
    "\n",
    "# Plot the explained variance\n",
    "plt.figure(figsize=(8, 5))\n",
    "plt.plot(range(1, len(pca.explained_variance_ratio_) + 1), pca.explained_variance_ratio_, marker='o', linestyle='--')\n",
    "plt.title('Scree Plot')\n",
    "plt.xlabel('Principal Component')\n",
    "plt.ylabel('Explained Variance Ratio')\n",
    "plt.xticks(range(1, len(pca.explained_variance_ratio_) + 1))\n",
    "plt.grid()\n",
    "plt.show()"
   ]
  },
  {
   "cell_type": "markdown",
   "metadata": {},
   "source": [
    "I would use 1 component because it explains the largest portion of variance"
   ]
  },
  {
   "cell_type": "markdown",
   "metadata": {},
   "source": [
    "# Exercise 8 (4 points) \n",
    "\n",
    "K-Means clustering minimizes which of the following metrics?\n",
    "\n",
    "- (a) The sum of squared distances between data points and their assigned cluster centroids \n",
    "- (b) The Euclidean distance between all pairs of points \n",
    "- (c) The absolute difference between cluster means\n",
    "- (d) The total number of clusters\n",
    "- (e) All of the above"
   ]
  },
  {
   "cell_type": "markdown",
   "metadata": {},
   "source": [
    "A"
   ]
  },
  {
   "cell_type": "markdown",
   "metadata": {},
   "source": [
    "# Excersise 9 (5 points)\n",
    "\n",
    "Consider the below code snippet.\n",
    "\n",
    "```\n",
    "import matplotlib.pyplot as plt\n",
    "from sklearn.cluster import KMeans\n",
    "from sklearn.datasets import make_blobs\n",
    "from sklearn.metrics import silhouette_score\n",
    "\n",
    "# Generate synthetic dataset\n",
    "X, _ = make_blobs(n_samples=300, centers=4, cluster_std=0.60, random_state=10)\n",
    "\n",
    "# Calculate the sum of squared distances for different number of clusters\n",
    "sse, silhouette = [], []\n",
    "for k in range(2, 11):\n",
    "    kmeans = KMeans(n_clusters=k, random_state=0)\n",
    "    kmeans.fit(X)\n",
    "    sse.append(kmeans.inertia_)\n",
    "    silhouette.append(silhouette_score(X, kmeans.labels_))\n",
    "\n",
    "# Plot the elbow plot\n",
    "fig, axes = plt.subplots(1, 2, figsize=(15, 8))\n",
    "\n",
    "axes[0].plot(range(2, 11), sse, marker='o', linestyle='--')\n",
    "axes[0].set_title('Elbow Method for Optimal Number of Clusters')\n",
    "axes[0].set_xlabel('Number of Clusters')\n",
    "axes[0].set_ylabel('Sum of Squared Distances (SSE)')\n",
    "axes[0].set_xticks(range(1, 11))\n",
    "axes[0].grid()\n",
    "\n",
    "# Plot the silhouette plot\n",
    "axes[1].plot(range(2, 11), silhouette, marker='o', linestyle='--')\n",
    "axes[1].set_title('Silhouette Score for Optimal Number of Clusters')\n",
    "axes[1].set_xlabel('Number of Clusters')\n",
    "axes[1].set_ylabel('Silhouette Score')\n",
    "axes[1].set_xticks(range(1, 11))\n",
    "axes[1].grid()\n",
    "```\n",
    "\n",
    "Ensure all required libraries are installed to run the code snippet. How many clusters would you consider for this data based on the inertia and based on the silhouette? Be specific."
   ]
  },
  {
   "cell_type": "code",
   "execution_count": 2,
   "metadata": {},
   "outputs": [
    {
     "data": {
      "image/png": "[encoded data removed]",
      "text/plain": [
       "<Figure size 1500x800 with 2 Axes>"
      ]
     },
     "metadata": {},
     "output_type": "display_data"
    }
   ],
   "source": [
    "import matplotlib.pyplot as plt\n",
    "from sklearn.cluster import KMeans\n",
    "from sklearn.datasets import make_blobs\n",
    "from sklearn.metrics import silhouette_score\n",
    "\n",
    "# Generate synthetic dataset\n",
    "X, _ = make_blobs(n_samples=300, centers=4, cluster_std=0.60, random_state=10)\n",
    "\n",
    "# Calculate the sum of squared distances for different number of clusters\n",
    "sse, silhouette = [], []\n",
    "for k in range(2, 11):\n",
    "    kmeans = KMeans(n_clusters=k, random_state=0)\n",
    "    kmeans.fit(X)\n",
    "    sse.append(kmeans.inertia_)\n",
    "    silhouette.append(silhouette_score(X, kmeans.labels_))\n",
    "\n",
    "# Plot the elbow plot\n",
    "fig, axes = plt.subplots(1, 2, figsize=(15, 8))\n",
    "\n",
    "axes[0].plot(range(2, 11), sse, marker='o', linestyle='--')\n",
    "axes[0].set_title('Elbow Method for Optimal Number of Clusters')\n",
    "axes[0].set_xlabel('Number of Clusters')\n",
    "axes[0].set_ylabel('Sum of Squared Distances (SSE)')\n",
    "axes[0].set_xticks(range(1, 11))\n",
    "axes[0].grid()\n",
    "\n",
    "# Plot the silhouette plot\n",
    "axes[1].plot(range(2, 11), silhouette, marker='o', linestyle='--')\n",
    "axes[1].set_title('Silhouette Score for Optimal Number of Clusters')\n",
    "axes[1].set_xlabel('Number of Clusters')\n",
    "axes[1].set_ylabel('Silhouette Score')\n",
    "axes[1].set_xticks(range(1, 11))\n",
    "axes[1].grid()"
   ]
  },
  {
   "cell_type": "markdown",
   "metadata": {},
   "source": [
    "I would use 4 clusers because after 4 the the SSE decreases as a much slower rate and 4 is also the highest Silhouette score "
   ]
  },
  {
   "cell_type": "markdown",
   "metadata": {},
   "source": [
    "# Exercise 10 (4 points)\n",
    "\n",
    "Which of the following components is **NOT** part of the transformer architecture?\n",
    "\n",
    "- (a) Multi-Head Attention\n",
    "- (b) Feed-Forward Neural Network\n",
    "- (c) Positional Encoding\n",
    "- (d) Convolutional Layers \n",
    "- (e) All of the above"
   ]
  },
  {
   "cell_type": "markdown",
   "metadata": {},
   "source": [
    "D"
   ]
  },
  {
   "cell_type": "markdown",
   "metadata": {},
   "source": [
    "# Exercise 11 \n",
    "\n",
    "In this exercise, we will apply text-summarization models via `transformers` in real-life applications. A media company wants to automate the summarization of long-form articles. The goal is to:\n",
    "\n",
    "- Compare extractive and abstractive summarization of a given news article using the `Rouge` score. See [this link](https://medium.com/@sthanikamsanthosh1994/understanding-bleu-and-rouge-score-for-nlp-evaluation-1ab334ecadcb) for more details about the `Rouge` score.\n",
    "\n",
    "### Exercise 11(a) (3 points)\n",
    "\n",
    "Load the one article form `cnn_dailymail` using `load_dataset` from `datasets` as follows:\n",
    "\n",
    "```\n",
    "from datasets import load_dataset\n",
    "\n",
    "dataset = load_dataset(\"cnn_dailymail\", \"3.0.0\", split=\"train\")\n",
    "article = dataset[0][\"article\"]\n",
    "\n",
    "print(f\"Article:\\n{article}\\n\")\n",
    "```"
   ]
  },
  {
   "cell_type": "code",
   "execution_count": 3,
   "metadata": {},
   "outputs": [
    {
     "name": "stderr",
     "output_type": "stream",
     "text": [
      "C:\\Users\\gmgma\\AppData\\Local\\Packages\\PythonSoftwareFoundation.Python.3.10_qbz5n2kfra8p0\\LocalCache\\local-packages\\Python310\\site-packages\\tqdm\\auto.py:21: TqdmWarning: IProgress not found. Please update jupyter and ipywidgets. See https://ipywidgets.readthedocs.io/en/stable/user_install.html\n",
      "  from .autonotebook import tqdm as notebook_tqdm\n"
     ]
    },
    {
     "name": "stdout",
     "output_type": "stream",
     "text": [
      "Article:\n",
      "LONDON, England (Reuters) -- Harry Potter star Daniel Radcliffe gains access to a reported £20 million ($41.1 million) fortune as he turns 18 on Monday, but he insists the money won't cast a spell on him. Daniel Radcliffe as Harry Potter in \"Harry Potter and the Order of the Phoenix\" To the disappointment of gossip columnists around the world, the young actor says he has no plans to fritter his cash away on fast cars, drink and celebrity parties. \"I don't plan to be one of those people who, as soon as they turn 18, suddenly buy themselves a massive sports car collection or something similar,\" he told an Australian interviewer earlier this month. \"I don't think I'll be particularly extravagant. \"The things I like buying are things that cost about 10 pounds -- books and CDs and DVDs.\" At 18, Radcliffe will be able to gamble in a casino, buy a drink in a pub or see the horror film \"Hostel: Part II,\" currently six places below his number one movie on the UK box office chart. Details of how he'll mark his landmark birthday are under wraps. His agent and publicist had no comment on his plans. \"I'll definitely have some sort of party,\" he said in an interview. \"Hopefully none of you will be reading about it.\" Radcliffe's earnings from the first five Potter films have been held in a trust fund which he has not been able to touch. Despite his growing fame and riches, the actor says he is keeping his feet firmly on the ground. \"People are always looking to say 'kid star goes off the rails,'\" he told reporters last month. \"But I try very hard not to go that way because it would be too easy for them.\" His latest outing as the boy wizard in \"Harry Potter and the Order of the Phoenix\" is breaking records on both sides of the Atlantic and he will reprise the role in the last two films.  Watch I-Reporter give her review of Potter's latest » . There is life beyond Potter, however. The Londoner has filmed a TV movie called \"My Boy Jack,\" about author Rudyard Kipling and his son, due for release later this year. He will also appear in \"December Boys,\" an Australian film about four boys who escape an orphanage. Earlier this year, he made his stage debut playing a tortured teenager in Peter Shaffer's \"Equus.\" Meanwhile, he is braced for even closer media scrutiny now that he's legally an adult: \"I just think I'm going to be more sort of fair game,\" he told Reuters. E-mail to a friend . Copyright 2007 Reuters. All rights reserved.This material may not be published, broadcast, rewritten, or redistributed.\n",
      "\n"
     ]
    }
   ],
   "source": [
    "from datasets import load_dataset\n",
    "\n",
    "dataset = load_dataset(\"cnn_dailymail\", \"3.0.0\", split=\"train\")\n",
    "article = dataset[0][\"article\"]\n",
    "\n",
    "print(f\"Article:\\n{article}\\n\")"
   ]
  },
  {
   "cell_type": "markdown",
   "metadata": {},
   "source": [
    "### Exercise 11(b) (6 points)\n",
    "\n",
    "Load `pipeline` from `transformers`. Then, load\n",
    "\n",
    "- `facebook/bart-large-cnn` model with `task=\"summarization\"`\n",
    "- `t5-small` model with `task=\"summarization\"`\n",
    "\n",
    "After that, apply the summarizers to `article` from part 11(a) using `max_length=150`, `min_length=50`, and `do_sample=False`. "
   ]
  },
  {
   "cell_type": "code",
   "execution_count": null,
   "metadata": {},
   "outputs": [
    {
     "name": "stderr",
     "output_type": "stream",
     "text": [
      "Device set to use cpu\n",
      "Device set to use cpu\n",
      "Token indices sequence length is longer than the specified maximum sequence length for this model (638 > 512). Running this sequence through the model will result in indexing errors\n"
     ]
    }
   ],
   "source": [
    "from transformers import pipeline\n",
    "\n",
    "summarizer_bart = pipeline(\"summarization\", model=\"facebook/bart-large-cnn\")\n",
    "summarizer_t5 = pipeline(\"summarization\", model=\"t5-small\")\n",
    "\n",
    "summary_bart = summarizer_bart(article, max_length=150, min_length=50, do_sample=False)\n",
    "summary_t5 = summarizer_t5(article, max_length=150, min_length=50, do_sample=False)"
   ]
  },
  {
   "cell_type": "markdown",
   "metadata": {},
   "source": [
    "### Exercise 11(c) (6 points)\n",
    "\n",
    "Evaluate the summarizers using the `rouge_scorer`. Ensure to first install the  `rouge_scorer` library as follows:\n",
    "\n",
    "```\n",
    "pip install rouge_scorer\n",
    "```\n",
    "\n",
    "Then, load it as follows:\n",
    "\n",
    "```\n",
    "from rouge_score import rouge_scorer\n",
    "scorer = rouge_scorer.RougeScorer(['rougeL'], use_stemmer=True)\n",
    "```\n",
    "\n",
    "After that, apply the score to the summarization as follows:\n",
    "\n",
    "```\n",
    "score_fmeasure = scorer.score(article, summary_text)['rougeL'].fmeasure\n",
    "```\n",
    "\n",
    "The higher the `fmeasure` is, the better the summarizer is. Which model is better?"
   ]
  },
  {
   "cell_type": "code",
   "execution_count": 8,
   "metadata": {},
   "outputs": [
    {
     "name": "stdout",
     "output_type": "stream",
     "text": [
      "BART Rouge-L F1 Score: 0.1362\n",
      "T5 Rouge-L F1 Score: 0.2486\n"
     ]
    }
   ],
   "source": [
    "from rouge_score import rouge_scorer\n",
    "\n",
    "scorer = rouge_scorer.RougeScorer([\"rougeL\"], use_stemmer=True)\n",
    "\n",
    "score_bart = scorer.score(article, summary_bart[0][\"summary_text\"])[\"rougeL\"].fmeasure\n",
    "score_t5 = scorer.score(article, summary_t5[0][\"summary_text\"])[\"rougeL\"].fmeasure\n",
    "\n",
    "print(f\"BART Rouge-L F1 Score: {score_bart:.4f}\")\n",
    "print(f\"T5 Rouge-L F1 Score: {score_t5:.4f}\")"
   ]
  },
  {
   "cell_type": "markdown",
   "metadata": {},
   "source": [
    "Based on my results I would use the T5 model because it had the higher Rouge score"
   ]
  },
  {
   "cell_type": "markdown",
   "metadata": {},
   "source": [
    "### Exercise 11(d) (15 points)\n",
    "\n",
    "Apply parts 11(b) - 11(c) over the first 20 articles of `dataset`. Store the `fmeasure` of each of the models on each of the articles. Report the average `fmeasure` for each of the model. Which summarizer is better? Be specific."
   ]
  },
  {
   "cell_type": "code",
   "execution_count": 51,
   "metadata": {},
   "outputs": [
    {
     "name": "stdout",
     "output_type": "stream",
     "text": [
      "Processing article 1...\n",
      "Processing article 2...\n",
      "Processing article 3...\n",
      "Processing article 4...\n",
      "Processing article 5...\n",
      "Error processing article 5: index out of range in self\n",
      "Processing article 6...\n",
      "Processing article 7...\n",
      "Error processing article 7: index out of range in self\n",
      "Processing article 8...\n",
      "Processing article 9...\n",
      "Processing article 10...\n",
      "Processing article 11...\n",
      "Processing article 12...\n",
      "Processing article 13...\n",
      "Processing article 14...\n",
      "Processing article 15...\n",
      "Processing article 16...\n",
      "Processing article 17...\n",
      "Processing article 18...\n",
      "Processing article 19...\n",
      "Processing article 20...\n",
      "BART Average Rouge-L F1 Score: 0.1664\n",
      "T5 Average Rouge-L F1 Score: 0.1730\n"
     ]
    }
   ],
   "source": [
    "dataset = load_dataset(\"cnn_dailymail\", \"3.0.0\", split=\"train\")\n",
    "\n",
    "bart_scores, t5_scores = [], []\n",
    "\n",
    "def split_text(text, max_tokens=1024):\n",
    "    # Split text into chunks if it exceeds token limit\n",
    "    tokens = text.split()  # You can use a tokenizer for more accurate token count\n",
    "    chunks = [' '.join(tokens[i:i+max_tokens]) for i in range(0, len(tokens), max_tokens)]\n",
    "    return chunks\n",
    "\n",
    "for i in range(20):\n",
    "    try:\n",
    "        print(f\"Processing article {i+1}...\")\n",
    "        article = dataset[i][\"article\"]\n",
    "\n",
    "        # Check if the article is too long and split it if necessary\n",
    "        article_chunks = split_text(article)\n",
    "        summary_bart, summary_t5 = \"\", \"\"\n",
    "        for chunk in article_chunks:\n",
    "            summary_bart_chunk = summarizer_bart(chunk, max_length=150, min_length=50, do_sample=False)\n",
    "            summary_t5_chunk = summarizer_t5(chunk, max_length=150, min_length=50, do_sample=False)\n",
    "            summary_bart += summary_bart_chunk[0][\"summary_text\"] + \" \"\n",
    "            summary_t5 += summary_t5_chunk[0][\"summary_text\"] + \" \"\n",
    "\n",
    "        score_bart = scorer.score(article, summary_bart.strip())[\"rougeL\"].fmeasure\n",
    "        score_t5 = scorer.score(article, summary_t5.strip())[\"rougeL\"].fmeasure\n",
    "\n",
    "        bart_scores.append(score_bart)\n",
    "        t5_scores.append(score_t5)\n",
    "    except IndexError as e:\n",
    "        print(f\"Error processing article {i+1}: {e}\")\n",
    "    except Exception as e:\n",
    "        print(f\"Unexpected error processing article {i+1}: {e}\")\n",
    "\n",
    "bart_avg_score = sum(bart_scores) / len(bart_scores)\n",
    "t5_avg_score = sum(t5_scores) / len(t5_scores)\n",
    "\n",
    "print(f\"BART Average Rouge-L F1 Score: {bart_avg_score:.4f}\")\n",
    "print(f\"T5 Average Rouge-L F1 Score: {t5_avg_score:.4f}\")"
   ]
  },
  {
   "cell_type": "markdown",
   "metadata": {},
   "source": [
    "Based on my results I would use the T5 model because it had the higher Rouge Score"
   ]
  }
 ],
 "metadata": {
  "kernelspec": {
   "display_name": "Python 3",
   "language": "python",
   "name": "python3"
  },
  "language_info": {
   "codemirror_mode": {
    "name": "ipython",
    "version": 3
   },
   "file_extension": ".py",
   "mimetype": "text/x-python",
   "name": "python",
   "nbconvert_exporter": "python",
   "pygments_lexer": "ipython3",
   "version": "3.10.11"
  }
 },
 "nbformat": 4,
 "nbformat_minor": 2
}
