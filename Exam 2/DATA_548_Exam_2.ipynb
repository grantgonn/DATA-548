{
 "cells": [
  {
   "cell_type": "markdown",
   "metadata": {},
   "source": [
    "# Exercise 1 (20 points) \n",
    "\n",
    "Please state **True** or **False** for the below statements.\n",
    "\n",
    "- (a) Autoencoders are supervised learning models used primarily for classification tasks.\n",
    "- (b) The generator in a GAN is trained to distinguish between real and fake data.\n",
    "- (c) The main objective of an autoencoder is to reconstruct the input data at its output layer.\n",
    "- (d) In a well-trained GAN, the generator should produce data that the discriminator can easily classify as fake.\n",
    "- (e) Autoencoders are always better than Principal Component Analysis (PCA) for dimensionality reduction.\n",
    "- (f) The discriminator and generator are trained simultaneously in a single step during GAN training. \n",
    "- (g) Autoencoders are ideally suited for time-series forecasting tasks without any modifications.   \n",
    "- (h) GANs consist of two neural networks called the generator and the discriminator. \n",
    "- (i) A denoising autoencoder is trained to reconstruct corrupted input data back to its original clean version.\n",
    "- (j) GANs can be used for image generation, text-to-image synthesis, and data augmentation. "
   ]
  },
  {
   "cell_type": "markdown",
   "metadata": {},
   "source": [
    "a. False\n",
    "\n",
    "b. False\n",
    "\n",
    "c. True\n",
    "\n",
    "d. False\n",
    "\n",
    "e. False\n",
    "\n",
    "f. False\n",
    "\n",
    "g. False\n",
    "\n",
    "h. True\n",
    "\n",
    "i. True\n",
    "\n",
    "j. True"
   ]
  },
  {
   "cell_type": "markdown",
   "metadata": {},
   "source": [
    "# Exercise 2 (4 points)\n",
    "\n",
    "What is the primary goal of an autoencoder?\n",
    "\n",
    "- (a) Classify input data into predefined categories.\n",
    "- (b) Translate data from one language to another.\n",
    "- (c) Compress input data and then reconstruct it.\n",
    "- (d) Increase the dimensionality of input data,\n",
    "- (e) None of the above."
   ]
  },
  {
   "cell_type": "markdown",
   "metadata": {},
   "source": [
    "C"
   ]
  },
  {
   "cell_type": "markdown",
   "metadata": {},
   "source": [
    "# Exercise 3 (5 points)\n",
    "\n",
    "Briefly explain how the generator and discriminator work together in a GAN. Please, be specific."
   ]
  },
  {
   "cell_type": "markdown",
   "metadata": {},
   "source": [
    "The generators job is to generate new fake data that resembles the real data while the disciminators job is to distinguish between the real and fake, generated data."
   ]
  },
  {
   "cell_type": "markdown",
   "metadata": {},
   "source": [
    "# Exercise 4 (5 points)\n",
    "\n",
    "Explain how the encoder and decoder work together in an autoencoder. Please, be specific."
   ]
  },
  {
   "cell_type": "markdown",
   "metadata": {},
   "source": [
    "The encoder works to compress data into lower dimentional representaion of the input data and the decoder is to reconstruct the original data from the compressed representaion as close to the original as possible. "
   ]
  },
  {
   "cell_type": "markdown",
   "metadata": {},
   "source": [
    "# Exercise 5 (4 points)\n",
    "\n",
    "What differentiates a variational autoencoder (VAE) from a traditional autoencoder? \n",
    "\n",
    "- (a) VAEs use convolutional layers only.\n",
    "- (b) VAEs include a stochastic (probabilistic) component in encoding. \n",
    "- (c) VAEs do not reconstruct the input.\n",
    "- (d) VAEs are supervised models.\n",
    "- (e) All of the above."
   ]
  },
  {
   "cell_type": "markdown",
   "metadata": {},
   "source": [
    "B"
   ]
  },
  {
   "cell_type": "markdown",
   "metadata": {},
   "source": [
    "# Exercise 6 (4 points)\n",
    "\n",
    "Which of the following is a common issue encountered when training GANs?\n",
    "\n",
    "- (a) Vanishing gradients.\n",
    "- (b) Mode collapse. \n",
    "- (c) Overfitting.\n",
    "- (d) Exploding gradients.\n",
    "- (e) None of the above."
   ]
  },
  {
   "cell_type": "markdown",
   "metadata": {},
   "source": [
    "B"
   ]
  },
  {
   "cell_type": "markdown",
   "metadata": {},
   "source": [
    "# Exercise 7 (5 points)\n",
    "\n",
    "How can autoencoders be used for anomaly detection? Please, be specific."
   ]
  },
  {
   "cell_type": "markdown",
   "metadata": {},
   "source": [
    "It can be used for this because autoencoders learn the compressed representation of the data where the data primarily contains the normal instances. When anomalies are present the autoencoder can have a more dificult time reconstructing those instances."
   ]
  },
  {
   "cell_type": "markdown",
   "metadata": {},
   "source": [
    "# Exercise 8 (4 points)\n",
    "\n",
    "What does the discriminator output in a GAN typically represent?\n",
    "\n",
    "- (a) The category of the image.\n",
    "- (b) The reconstruction loss.\n",
    "- (c) The probability that input data is real. \n",
    "- (d) The latent vector of the input.\n",
    "- (e) All of the above."
   ]
  },
  {
   "cell_type": "markdown",
   "metadata": {},
   "source": [
    "C"
   ]
  },
  {
   "cell_type": "markdown",
   "metadata": {},
   "source": [
    "# Exercise 9 (5 points)\n",
    "\n",
    "What is mode collapse in GANs, and why is it problematic? Please, be specific."
   ]
  },
  {
   "cell_type": "markdown",
   "metadata": {},
   "source": [
    "It is when the GAN generates similar or identical outputs from different inputs."
   ]
  },
  {
   "cell_type": "markdown",
   "metadata": {},
   "source": [
    "# Exercise 10\n",
    "\n",
    "You are given a credit card transaction dataset with heavy class imbalance (98% normal, 2% fraud). You decide to build an autoencoder using TensorFlow and Keras to detect fraudulent transactions based on reconstruction error.\n",
    "\n",
    "### Exercise 10(a) (2 points)\n",
    "\n",
    "Read the `creditcard_sample.csv` data file and called `df`."
   ]
  },
  {
   "cell_type": "code",
   "execution_count": 1,
   "metadata": {},
   "outputs": [],
   "source": [
    "import pandas as pd\n",
    "import tensorflow as tf\n",
    "import matplotlib.pyplot as plt\n",
    "import numpy as np\n",
    "import seaborn as sns\n",
    "\n",
    "from tensorflow.keras.layers import Dense\n",
    "from tensorflow.keras.models import Model\n",
    "\n",
    "from sklearn.preprocessing import StandardScaler\n",
    "from sklearn.model_selection import train_test_split\n",
    "from sklearn.metrics import confusion_matrix"
   ]
  },
  {
   "cell_type": "code",
   "execution_count": 2,
   "metadata": {},
   "outputs": [
    {
     "data": {
      "text/html": [
       "<div>\n",
       "<style scoped>\n",
       "    .dataframe tbody tr th:only-of-type {\n",
       "        vertical-align: middle;\n",
       "    }\n",
       "\n",
       "    .dataframe tbody tr th {\n",
       "        vertical-align: top;\n",
       "    }\n",
       "\n",
       "    .dataframe thead th {\n",
       "        text-align: right;\n",
       "    }\n",
       "</style>\n",
       "<table border=\"1\" class=\"dataframe\">\n",
       "  <thead>\n",
       "    <tr style=\"text-align: right;\">\n",
       "      <th></th>\n",
       "      <th>V1</th>\n",
       "      <th>V2</th>\n",
       "      <th>V3</th>\n",
       "      <th>V4</th>\n",
       "      <th>V5</th>\n",
       "      <th>V6</th>\n",
       "      <th>V7</th>\n",
       "      <th>V8</th>\n",
       "      <th>V9</th>\n",
       "      <th>V10</th>\n",
       "      <th>...</th>\n",
       "      <th>V22</th>\n",
       "      <th>V23</th>\n",
       "      <th>V24</th>\n",
       "      <th>V25</th>\n",
       "      <th>V26</th>\n",
       "      <th>V27</th>\n",
       "      <th>V28</th>\n",
       "      <th>V29</th>\n",
       "      <th>V30</th>\n",
       "      <th>Class</th>\n",
       "    </tr>\n",
       "  </thead>\n",
       "  <tbody>\n",
       "    <tr>\n",
       "      <th>0</th>\n",
       "      <td>0.104133</td>\n",
       "      <td>0.102382</td>\n",
       "      <td>0.886843</td>\n",
       "      <td>-1.255149</td>\n",
       "      <td>0.175365</td>\n",
       "      <td>-2.936201</td>\n",
       "      <td>-2.143967</td>\n",
       "      <td>1.029278</td>\n",
       "      <td>0.674144</td>\n",
       "      <td>-0.729997</td>\n",
       "      <td>...</td>\n",
       "      <td>0.096430</td>\n",
       "      <td>-2.187381</td>\n",
       "      <td>-0.767507</td>\n",
       "      <td>0.563404</td>\n",
       "      <td>-1.466038</td>\n",
       "      <td>0.240488</td>\n",
       "      <td>0.283225</td>\n",
       "      <td>1.699743</td>\n",
       "      <td>-1.224990</td>\n",
       "      <td>0</td>\n",
       "    </tr>\n",
       "    <tr>\n",
       "      <th>1</th>\n",
       "      <td>-1.671972</td>\n",
       "      <td>1.406808</td>\n",
       "      <td>0.270513</td>\n",
       "      <td>0.348095</td>\n",
       "      <td>0.759013</td>\n",
       "      <td>0.267136</td>\n",
       "      <td>-1.163003</td>\n",
       "      <td>0.908690</td>\n",
       "      <td>-1.246393</td>\n",
       "      <td>1.419844</td>\n",
       "      <td>...</td>\n",
       "      <td>2.969510</td>\n",
       "      <td>-1.658775</td>\n",
       "      <td>0.505389</td>\n",
       "      <td>0.059963</td>\n",
       "      <td>-0.391300</td>\n",
       "      <td>-1.112186</td>\n",
       "      <td>1.559182</td>\n",
       "      <td>-0.699244</td>\n",
       "      <td>-1.169451</td>\n",
       "      <td>0</td>\n",
       "    </tr>\n",
       "    <tr>\n",
       "      <th>2</th>\n",
       "      <td>0.583503</td>\n",
       "      <td>1.564854</td>\n",
       "      <td>0.427985</td>\n",
       "      <td>0.158583</td>\n",
       "      <td>-2.203359</td>\n",
       "      <td>-0.689486</td>\n",
       "      <td>-0.046771</td>\n",
       "      <td>0.444229</td>\n",
       "      <td>0.349199</td>\n",
       "      <td>-0.272738</td>\n",
       "      <td>...</td>\n",
       "      <td>0.493232</td>\n",
       "      <td>0.966601</td>\n",
       "      <td>0.449246</td>\n",
       "      <td>0.532537</td>\n",
       "      <td>1.126343</td>\n",
       "      <td>1.424453</td>\n",
       "      <td>0.998535</td>\n",
       "      <td>-0.871252</td>\n",
       "      <td>-0.124150</td>\n",
       "      <td>0</td>\n",
       "    </tr>\n",
       "    <tr>\n",
       "      <th>3</th>\n",
       "      <td>-1.679208</td>\n",
       "      <td>-0.018167</td>\n",
       "      <td>0.777550</td>\n",
       "      <td>-0.081942</td>\n",
       "      <td>0.100049</td>\n",
       "      <td>-0.907496</td>\n",
       "      <td>0.160611</td>\n",
       "      <td>1.893490</td>\n",
       "      <td>0.442753</td>\n",
       "      <td>-0.431100</td>\n",
       "      <td>...</td>\n",
       "      <td>-0.666619</td>\n",
       "      <td>-0.644203</td>\n",
       "      <td>0.222378</td>\n",
       "      <td>0.220145</td>\n",
       "      <td>1.937384</td>\n",
       "      <td>-0.202720</td>\n",
       "      <td>-1.199996</td>\n",
       "      <td>-0.165968</td>\n",
       "      <td>-2.395724</td>\n",
       "      <td>0</td>\n",
       "    </tr>\n",
       "    <tr>\n",
       "      <th>4</th>\n",
       "      <td>0.270988</td>\n",
       "      <td>0.068651</td>\n",
       "      <td>0.353680</td>\n",
       "      <td>0.626244</td>\n",
       "      <td>0.558124</td>\n",
       "      <td>1.251149</td>\n",
       "      <td>1.153769</td>\n",
       "      <td>2.354219</td>\n",
       "      <td>-0.585186</td>\n",
       "      <td>-0.176407</td>\n",
       "      <td>...</td>\n",
       "      <td>-0.592114</td>\n",
       "      <td>1.166577</td>\n",
       "      <td>-0.126789</td>\n",
       "      <td>-1.250429</td>\n",
       "      <td>-0.994717</td>\n",
       "      <td>0.761770</td>\n",
       "      <td>1.856416</td>\n",
       "      <td>-1.823493</td>\n",
       "      <td>-2.810645</td>\n",
       "      <td>0</td>\n",
       "    </tr>\n",
       "  </tbody>\n",
       "</table>\n",
       "<p>5 rows × 31 columns</p>\n",
       "</div>"
      ],
      "text/plain": [
       "         V1        V2        V3        V4        V5        V6        V7  \\\n",
       "0  0.104133  0.102382  0.886843 -1.255149  0.175365 -2.936201 -2.143967   \n",
       "1 -1.671972  1.406808  0.270513  0.348095  0.759013  0.267136 -1.163003   \n",
       "2  0.583503  1.564854  0.427985  0.158583 -2.203359 -0.689486 -0.046771   \n",
       "3 -1.679208 -0.018167  0.777550 -0.081942  0.100049 -0.907496  0.160611   \n",
       "4  0.270988  0.068651  0.353680  0.626244  0.558124  1.251149  1.153769   \n",
       "\n",
       "         V8        V9       V10  ...       V22       V23       V24       V25  \\\n",
       "0  1.029278  0.674144 -0.729997  ...  0.096430 -2.187381 -0.767507  0.563404   \n",
       "1  0.908690 -1.246393  1.419844  ...  2.969510 -1.658775  0.505389  0.059963   \n",
       "2  0.444229  0.349199 -0.272738  ...  0.493232  0.966601  0.449246  0.532537   \n",
       "3  1.893490  0.442753 -0.431100  ... -0.666619 -0.644203  0.222378  0.220145   \n",
       "4  2.354219 -0.585186 -0.176407  ... -0.592114  1.166577 -0.126789 -1.250429   \n",
       "\n",
       "        V26       V27       V28       V29       V30  Class  \n",
       "0 -1.466038  0.240488  0.283225  1.699743 -1.224990      0  \n",
       "1 -0.391300 -1.112186  1.559182 -0.699244 -1.169451      0  \n",
       "2  1.126343  1.424453  0.998535 -0.871252 -0.124150      0  \n",
       "3  1.937384 -0.202720 -1.199996 -0.165968 -2.395724      0  \n",
       "4 -0.994717  0.761770  1.856416 -1.823493 -2.810645      0  \n",
       "\n",
       "[5 rows x 31 columns]"
      ]
     },
     "execution_count": 2,
     "metadata": {},
     "output_type": "execute_result"
    }
   ],
   "source": [
    "df = pd.read_csv('creditcard_sample.csv')\n",
    "df.head()"
   ]
  },
  {
   "cell_type": "markdown",
   "metadata": {},
   "source": [
    "### Exercise 10(b) (2 points)\n",
    "\n",
    "Report the shape of `df`"
   ]
  },
  {
   "cell_type": "code",
   "execution_count": 4,
   "metadata": {},
   "outputs": [
    {
     "data": {
      "text/plain": [
       "(2000, 31)"
      ]
     },
     "execution_count": 4,
     "metadata": {},
     "output_type": "execute_result"
    }
   ],
   "source": [
    "df.shape"
   ]
  },
  {
   "cell_type": "markdown",
   "metadata": {},
   "source": [
    "### Exercise 10(c) (6 points)\n",
    "\n",
    "Define `V1` to `V30` as the input features and `Class` as the target feature. Then, using `StandardScaler`, standardize the input features. Finally, split the data into train (80%) and test (20%). Ensure to include the `stratify` argument in `train_test_split`. "
   ]
  },
  {
   "cell_type": "code",
   "execution_count": 5,
   "metadata": {},
   "outputs": [],
   "source": [
    "# define features and target variable\n",
    "X = df.drop(columns=['Class'])\n",
    "y = df['Class']\n",
    "\n",
    "# standardize the features\n",
    "scaler = StandardScaler()\n",
    "X = scaler.fit_transform(X)\n",
    "\n",
    "# split the data into training and testing sets\n",
    "X_train, X_test, y_train, y_test = train_test_split(X, y, test_size=0.2, random_state=42, stratify=y)"
   ]
  },
  {
   "cell_type": "markdown",
   "metadata": {},
   "source": [
    "### Exercise 10(d) (10 points)\n",
    "\n",
    "Build the autoencoder only on non-fradulent (`Class=0`) observations from the train dataset as follows:\n",
    "\n",
    "- encoder with two hidden layers with 32 and 32 neurons, respectively.\n",
    "- decoder with one hidden layer with 32 neurons.\n",
    "- Compile the model with `Adam(0.001)` and `loss=\"mse\"`"
   ]
  },
  {
   "cell_type": "code",
   "execution_count": 6,
   "metadata": {},
   "outputs": [],
   "source": [
    "class Encoder(tf.keras.layers.Layer):\n",
    "    def __init__(self, hidden_dim):\n",
    "        super(Encoder, self).__init__()\n",
    "        self.hidden_layer1 = Dense(units=hidden_dim, activation=\"relu\")\n",
    "        self.hidden_layer2 = Dense(units=hidden_dim, activation=\"relu\")\n",
    "\n",
    "    def call(self, input_features):\n",
    "        x = self.hidden_layer1(input_features)\n",
    "        x = self.hidden_layer2(x)\n",
    "        return x\n",
    "\n",
    "# Decoder class (one hidden layer with 32 neurons)\n",
    "class Decoder(tf.keras.layers.Layer):\n",
    "    def __init__(self, hidden_dim, original_dim):\n",
    "        super(Decoder, self).__init__()\n",
    "        self.hidden_layer = Dense(units=hidden_dim, activation=\"relu\")  \n",
    "        self.output_layer = Dense(units=original_dim, activation=\"sigmoid\")  \n",
    "\n",
    "    def call(self, encoded):\n",
    "        x = self.hidden_layer(encoded)  \n",
    "        reconstructed = self.output_layer(x)  \n",
    "        return reconstructed\n",
    "\n",
    "# Autoencoder class\n",
    "class Autoencoder(Model):\n",
    "    def __init__(self, hidden_dim, original_dim):\n",
    "        super(Autoencoder, self).__init__()\n",
    "        self.encoder = Encoder(hidden_dim=hidden_dim)\n",
    "        self.decoder = Decoder(hidden_dim=hidden_dim, original_dim=original_dim)\n",
    "\n",
    "    def call(self, input_features):\n",
    "        encoded = self.encoder(input_features)  \n",
    "        reconstructed = self.decoder(encoded) \n",
    "        return reconstructed"
   ]
  },
  {
   "cell_type": "code",
   "execution_count": 7,
   "metadata": {},
   "outputs": [],
   "source": [
    "# non-fraudulent data\n",
    "X_train_valid = X_train[y_train == 0]\n",
    "\n",
    "# create an instance of the model\n",
    "model = Autoencoder(hidden_dim=32, original_dim=30)\n",
    "\n",
    "# compile the model\n",
    "model.compile(optimizer=tf.keras.optimizers.Adam(learning_rate=0.001), loss='mse')"
   ]
  },
  {
   "cell_type": "markdown",
   "metadata": {},
   "source": [
    "### Exercise 10(e) (8 points)\n",
    "\n",
    "Train the autoencoder only on non-fradulent (`Class=0`) observations from the train dataset using `epochs=30`, `batch_size=32`, and `validation_split=0.1`. Visualize the loss in the train and validation datasets."
   ]
  },
  {
   "cell_type": "code",
   "execution_count": 8,
   "metadata": {},
   "outputs": [
    {
     "name": "stdout",
     "output_type": "stream",
     "text": [
      "Epoch 1/30\n",
      "44/44 [==============================] - 1s 7ms/step - loss: 1.1827 - val_loss: 1.0927\n",
      "Epoch 2/30\n",
      "44/44 [==============================] - 0s 3ms/step - loss: 1.0250 - val_loss: 0.9649\n",
      "Epoch 3/30\n",
      "44/44 [==============================] - 0s 2ms/step - loss: 0.9623 - val_loss: 0.9417\n",
      "Epoch 4/30\n",
      "44/44 [==============================] - 0s 2ms/step - loss: 0.9333 - val_loss: 0.9130\n",
      "Epoch 5/30\n",
      "44/44 [==============================] - 0s 2ms/step - loss: 0.8995 - val_loss: 0.8840\n",
      "Epoch 6/30\n",
      "44/44 [==============================] - 0s 2ms/step - loss: 0.8694 - val_loss: 0.8591\n",
      "Epoch 7/30\n",
      "44/44 [==============================] - 0s 2ms/step - loss: 0.8442 - val_loss: 0.8369\n",
      "Epoch 8/30\n",
      "44/44 [==============================] - 0s 2ms/step - loss: 0.8237 - val_loss: 0.8214\n",
      "Epoch 9/30\n",
      "44/44 [==============================] - 0s 2ms/step - loss: 0.8073 - val_loss: 0.8074\n",
      "Epoch 10/30\n",
      "44/44 [==============================] - 0s 2ms/step - loss: 0.7932 - val_loss: 0.7945\n",
      "Epoch 11/30\n",
      "44/44 [==============================] - 0s 2ms/step - loss: 0.7813 - val_loss: 0.7831\n",
      "Epoch 12/30\n",
      "44/44 [==============================] - 0s 2ms/step - loss: 0.7699 - val_loss: 0.7739\n",
      "Epoch 13/30\n",
      "44/44 [==============================] - 0s 2ms/step - loss: 0.7598 - val_loss: 0.7666\n",
      "Epoch 14/30\n",
      "44/44 [==============================] - 0s 2ms/step - loss: 0.7520 - val_loss: 0.7582\n",
      "Epoch 15/30\n",
      "44/44 [==============================] - 0s 2ms/step - loss: 0.7440 - val_loss: 0.7526\n",
      "Epoch 16/30\n",
      "44/44 [==============================] - 0s 2ms/step - loss: 0.7373 - val_loss: 0.7463\n",
      "Epoch 17/30\n",
      "44/44 [==============================] - 0s 2ms/step - loss: 0.7308 - val_loss: 0.7414\n",
      "Epoch 18/30\n",
      "44/44 [==============================] - 0s 2ms/step - loss: 0.7245 - val_loss: 0.7353\n",
      "Epoch 19/30\n",
      "44/44 [==============================] - 0s 2ms/step - loss: 0.7187 - val_loss: 0.7309\n",
      "Epoch 20/30\n",
      "44/44 [==============================] - 0s 2ms/step - loss: 0.7133 - val_loss: 0.7261\n",
      "Epoch 21/30\n",
      "44/44 [==============================] - 0s 2ms/step - loss: 0.7082 - val_loss: 0.7230\n",
      "Epoch 22/30\n",
      "44/44 [==============================] - 0s 2ms/step - loss: 0.7048 - val_loss: 0.7175\n",
      "Epoch 23/30\n",
      "44/44 [==============================] - 0s 2ms/step - loss: 0.7008 - val_loss: 0.7147\n",
      "Epoch 24/30\n",
      "44/44 [==============================] - 0s 2ms/step - loss: 0.6965 - val_loss: 0.7101\n",
      "Epoch 25/30\n",
      "44/44 [==============================] - 0s 2ms/step - loss: 0.6929 - val_loss: 0.7067\n",
      "Epoch 26/30\n",
      "44/44 [==============================] - 0s 2ms/step - loss: 0.6896 - val_loss: 0.7028\n",
      "Epoch 27/30\n",
      "44/44 [==============================] - 0s 2ms/step - loss: 0.6871 - val_loss: 0.6983\n",
      "Epoch 28/30\n",
      "44/44 [==============================] - 0s 2ms/step - loss: 0.6836 - val_loss: 0.6963\n",
      "Epoch 29/30\n",
      "44/44 [==============================] - 0s 2ms/step - loss: 0.6808 - val_loss: 0.6950\n",
      "Epoch 30/30\n",
      "44/44 [==============================] - 0s 2ms/step - loss: 0.6780 - val_loss: 0.6917\n"
     ]
    }
   ],
   "source": [
    "# train the model\n",
    "loss = model.fit(X_train_valid, X_train_valid, epochs=30, batch_size=32, validation_split=0.1)"
   ]
  },
  {
   "cell_type": "code",
   "execution_count": 11,
   "metadata": {},
   "outputs": [
    {
     "data": {
      "image/png": "[encoded data removed]",
      "text/plain": [
       "<Figure size 1000x600 with 1 Axes>"
      ]
     },
     "metadata": {},
     "output_type": "display_data"
    }
   ],
   "source": [
    "plt.figure(figsize=(10, 6))\n",
    "plt.plot(range(30), loss.history['loss'], label='Training Loss')\n",
    "plt.plot(range(30), loss.history['val_loss'], label='Val Loss')\n",
    "plt.xlabel('Epochs')\n",
    "plt.ylabel('Loss')\n",
    "plt.legend()\n",
    "plt.grid()\n",
    "plt.show();"
   ]
  },
  {
   "cell_type": "markdown",
   "metadata": {},
   "source": [
    "### Exercise 10(f) (6 points)\n",
    "\n",
    "Use the autoconder to predict on the test data set. Compute the `mse` and store as `reconstruction_error`. Then, visualize the `reconstruction_error`. Comment on the chart."
   ]
  },
  {
   "cell_type": "code",
   "execution_count": null,
   "metadata": {},
   "outputs": [
    {
     "name": "stdout",
     "output_type": "stream",
     "text": [
      "13/13 [==============================] - 0s 1ms/step\n"
     ]
    },
    {
     "data": {
      "image/png": "[encoded data removed]",
      "text/plain": [
       "<Figure size 1000x600 with 1 Axes>"
      ]
     },
     "metadata": {},
     "output_type": "display_data"
    }
   ],
   "source": [
    "# predict on the test set\n",
    "preds = model.predict(X_test)\n",
    "\n",
    "# Compute the mse \n",
    "reconstruction_error = np.mean(np.square(X_test - preds), axis=1)\n",
    "\n",
    "# Visualize mse\n",
    "plt.figure(figsize=(10, 6))\n",
    "plt.hist(reconstruction_error, bins=50, color='skyblue', edgecolor='black')\n",
    "plt.title('Histogram of Reconstruction Errors')\n",
    "plt.xlabel('Reconstruction Error (MSE)')\n",
    "plt.ylabel('Frequency')\n",
    "plt.show()"
   ]
  },
  {
   "cell_type": "markdown",
   "metadata": {},
   "source": [
    "From the above chart we see a right skew to the reconstruction error with most of error falling around 0.5-0.85"
   ]
  },
  {
   "cell_type": "markdown",
   "metadata": {},
   "source": [
    "### Exercise 10(g) (6 points)\n",
    "\n",
    "Use the 98th percentile of the `reconstruction_error` as the threshold to identify suspicious observations in the test dataset. Observations with a `reconstruction_error` exceeding this threshold can be considered outliers. Then, report the confusion matrix of the test data set."
   ]
  },
  {
   "cell_type": "code",
   "execution_count": 13,
   "metadata": {},
   "outputs": [
    {
     "data": {
      "image/png": "[encoded data removed]",
      "text/plain": [
       "<Figure size 800x600 with 2 Axes>"
      ]
     },
     "metadata": {},
     "output_type": "display_data"
    }
   ],
   "source": [
    "# set a threshold for reconstruction error\n",
    "threshold = 0.98\n",
    "\n",
    "# identify anomalies\n",
    "anomalies = reconstruction_error > np.percentile(reconstruction_error, 98)\n",
    "\n",
    "# generate a confusion matrix\n",
    "cm = confusion_matrix(y_test, anomalies)\n",
    "\n",
    "plt.figure(figsize=(8, 6))\n",
    "sns.heatmap(cm, annot=True, fmt='d', cmap='Blues', xticklabels=['Normal', 'Fraud'], yticklabels=['Normal', 'Fraud'])\n",
    "plt.title('Confusion Matrix')\n",
    "plt.xlabel('Predicted')\n",
    "plt.ylabel('True')\n",
    "plt.show()"
   ]
  }
 ],
 "metadata": {
  "kernelspec": {
   "display_name": "Python 3",
   "language": "python",
   "name": "python3"
  },
  "language_info": {
   "codemirror_mode": {
    "name": "ipython",
    "version": 3
   },
   "file_extension": ".py",
   "mimetype": "text/x-python",
   "name": "python",
   "nbconvert_exporter": "python",
   "pygments_lexer": "ipython3",
   "version": "3.10.11"
  }
 },
 "nbformat": 4,
 "nbformat_minor": 2
}
